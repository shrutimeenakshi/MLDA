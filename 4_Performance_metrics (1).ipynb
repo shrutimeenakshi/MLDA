{
  "nbformat": 4,
  "nbformat_minor": 0,
  "metadata": {
    "colab": {
      "provenance": []
    },
    "kernelspec": {
      "name": "python3",
      "display_name": "Python 3"
    },
    "language_info": {
      "name": "python"
    }
  },
  "cells": [
    {
      "cell_type": "code",
      "execution_count": 1,
      "metadata": {
        "colab": {
          "base_uri": "https://localhost:8080/"
        },
        "id": "2hlo4XV8K-Do",
        "outputId": "a4aabaac-f4f8-4b19-842c-5639744dab32"
      },
      "outputs": [
        {
          "output_type": "stream",
          "name": "stdout",
          "text": [
            "Column names after cleaning:\n",
            "Index(['ph,Hardness,Solids,Chloramines,Sulfate,Conductivity,Organic_carbon,Trihalomethanes,Turbidity,Potability'], dtype='object')\n"
          ]
        }
      ],
      "source": [
        "import pandas as pd\n",
        "from sklearn.preprocessing import LabelEncoder\n",
        "from sklearn.model_selection import train_test_split\n",
        "from sklearn.tree import DecisionTreeClassifier\n",
        "from sklearn.linear_model import LinearRegression\n",
        "from sklearn.metrics import accuracy_score,mean_squared_error, r2_score\n",
        "\n",
        "# Read the CSV file, using semicolon as a delimiter and skipping the last empty column\n",
        "data = pd.read_csv(\"water_potability.csv\", delimiter=';', usecols=lambda x: 'Unnamed' not in x)\n",
        "\n",
        "# Clean up column names by removing leading/trailing spaces\n",
        "data.columns = data.columns.str.strip()\n",
        "\n",
        "print(\"Column names after cleaning:\")\n",
        "print(data.columns)"
      ]
    },
    {
      "cell_type": "code",
      "source": [
        "import pandas as pd\n",
        "from sklearn.preprocessing import LabelEncoder\n",
        "from sklearn.model_selection import train_test_split\n",
        "from sklearn.tree import DecisionTreeClassifier\n",
        "from sklearn.linear_model import LinearRegression\n",
        "from sklearn.metrics import accuracy_score,mean_squared_error, r2_score\n",
        "\n",
        "# Read the CSV file\n",
        "data = pd.read_csv(\"water_potability.csv\")\n",
        "\n",
        "# Display the first few rows and information about the data\n",
        "print(data.head())\n",
        "print(data.info())\n",
        "\n",
        "# Define features (x) and target variable (y) based on the water_potability.csv dataset\n",
        "# 'Potability' is the target variable, and the rest are features\n",
        "features = ['ph', 'Hardness', 'Solids', 'Chloramines', 'Sulfate', 'Conductivity', 'Organic_carbon', 'Trihalomethanes', 'Turbidity']\n",
        "target = 'Potability'\n",
        "\n",
        "x = data[features]\n",
        "y = data[target]\n",
        "\n",
        "# Handle missing values by dropping rows with NaNs\n",
        "# This is a simple approach, more sophisticated methods like imputation can be used\n",
        "data_cleaned = data.dropna(subset=features + [target])\n",
        "x_cleaned = data_cleaned[features]\n",
        "y_cleaned = data_cleaned[target]\n",
        "\n",
        "\n",
        "# Split the data into training and testing sets\n",
        "x_train, x_test, y_train, y_test = train_test_split(x_cleaned, y_cleaned, test_size=0.2, random_state=2)\n",
        "\n",
        "# Initialize and train the Decision Tree Classifier model\n",
        "dt = DecisionTreeClassifier(criterion=\"entropy\", random_state=2)\n",
        "dt.fit(x_train, y_train)\n",
        "\n",
        "# Make predictions with Decision Tree\n",
        "y_dt_pred = dt.predict(x_test)\n",
        "\n",
        "# Evaluate the Decision Tree model\n",
        "accuracy_dt = accuracy_score(y_test, y_dt_pred)\n",
        "print(\"Decision Tree Accuracy:\", accuracy_dt)\n",
        "\n",
        "# Initialize and train the Linear Regression model\n",
        "# Linear Regression is not suitable for a classification problem like 'Potability'.\n",
        "# A classification model should be used instead.\n",
        "# For demonstration purposes, I will keep the Linear Regression code but note its inappropriateness.\n",
        "lrr = LinearRegression()\n",
        "lrr.fit(x_train, y_train)\n",
        "y_lrr_pred = lrr.predict(x_test)\n",
        "\n",
        "mse = mean_squared_error(y_test, y_lrr_pred)\n",
        "r2 = r2_score(y_test, y_lrr_pred)\n",
        "\n",
        "print(\"Linear Regression MSE:\", mse)\n",
        "print(\"Linear Regression R2:\", r2)"
      ],
      "metadata": {
        "colab": {
          "base_uri": "https://localhost:8080/"
        },
        "id": "qyZfJZfyL9cq",
        "outputId": "f4e163df-4499-4d5f-f644-1332bbb7648f"
      },
      "execution_count": 7,
      "outputs": [
        {
          "output_type": "stream",
          "name": "stdout",
          "text": [
            "         ph    Hardness        Solids  Chloramines     Sulfate  Conductivity  \\\n",
            "0       NaN  204.890455  20791.318981     7.300212  368.516441    564.308654   \n",
            "1  3.716080  129.422921  18630.057858     6.635246         NaN    592.885359   \n",
            "2  8.099124  224.236259  19909.541732     9.275884         NaN    418.606213   \n",
            "3  8.316766  214.373394  22018.417441     8.059332  356.886136    363.266516   \n",
            "4  9.092223  181.101509  17978.986339     6.546600  310.135738    398.410813   \n",
            "\n",
            "   Organic_carbon  Trihalomethanes  Turbidity  Potability  \n",
            "0       10.379783        86.990970   2.963135           0  \n",
            "1       15.180013        56.329076   4.500656           0  \n",
            "2       16.868637        66.420093   3.055934           0  \n",
            "3       18.436524       100.341674   4.628771           0  \n",
            "4       11.558279        31.997993   4.075075           0  \n",
            "<class 'pandas.core.frame.DataFrame'>\n",
            "RangeIndex: 3276 entries, 0 to 3275\n",
            "Data columns (total 10 columns):\n",
            " #   Column           Non-Null Count  Dtype  \n",
            "---  ------           --------------  -----  \n",
            " 0   ph               2785 non-null   float64\n",
            " 1   Hardness         3276 non-null   float64\n",
            " 2   Solids           3276 non-null   float64\n",
            " 3   Chloramines      3276 non-null   float64\n",
            " 4   Sulfate          2495 non-null   float64\n",
            " 5   Conductivity     3276 non-null   float64\n",
            " 6   Organic_carbon   3276 non-null   float64\n",
            " 7   Trihalomethanes  3114 non-null   float64\n",
            " 8   Turbidity        3276 non-null   float64\n",
            " 9   Potability       3276 non-null   int64  \n",
            "dtypes: float64(9), int64(1)\n",
            "memory usage: 256.1 KB\n",
            "None\n",
            "Decision Tree Accuracy: 0.6054590570719603\n",
            "Linear Regression MSE: 0.23852833827757974\n",
            "Linear Regression R2: 0.001465385830409116\n"
          ]
        }
      ]
    }
  ]
}