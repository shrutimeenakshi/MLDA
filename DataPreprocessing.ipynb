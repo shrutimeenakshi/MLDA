{
  "nbformat": 4,
  "nbformat_minor": 0,
  "metadata": {
    "colab": {
      "provenance": []
    },
    "kernelspec": {
      "name": "python3",
      "display_name": "Python 3"
    },
    "language_info": {
      "name": "python"
    }
  },
  "cells": [
    {
      "cell_type": "code",
      "execution_count": null,
      "metadata": {
        "colab": {
          "base_uri": "https://localhost:8080/"
        },
        "id": "VmAMxf3ZxrFJ",
        "outputId": "10ccf600-4c9d-470d-9b65-a82bf12e1d0c"
      },
      "outputs": [
        {
          "output_type": "stream",
          "name": "stdout",
          "text": [
            "         ph    Hardness        Solids  Chloramines     Sulfate  Conductivity  \\\n",
            "0       NaN  204.890455  20791.318981     7.300212  368.516441    564.308654   \n",
            "1  3.716080  129.422921  18630.057858     6.635246         NaN    592.885359   \n",
            "2  8.099124  224.236259  19909.541732     9.275884         NaN    418.606213   \n",
            "3  8.316766  214.373394  22018.417441     8.059332  356.886136    363.266516   \n",
            "4  9.092223  181.101509  17978.986339     6.546600  310.135738    398.410813   \n",
            "\n",
            "   Organic_carbon  Trihalomethanes  Turbidity  Potability  \n",
            "0       10.379783        86.990970   2.963135           0  \n",
            "1       15.180013        56.329076   4.500656           0  \n",
            "2       16.868637        66.420093   3.055934           0  \n",
            "3       18.436524       100.341674   4.628771           0  \n",
            "4       11.558279        31.997993   4.075075           0  \n",
            "        num__ph  num__Hardness  num__Solids  num__Chloramines  num__Sulfate  \\\n",
            "0 -6.043133e-16       0.259195    -0.139471          0.112415  9.613574e-01   \n",
            "1 -2.289339e+00      -2.036414    -0.385987         -0.307694  3.145987e-15   \n",
            "2  6.928678e-01       0.847665    -0.240047          1.360594  3.145987e-15   \n",
            "3  8.409504e-01       0.547651     0.000493          0.592008  6.395190e-01   \n",
            "4  1.368569e+00      -0.464429    -0.460249         -0.363698 -6.541765e-01   \n",
            "\n",
            "   num__Conductivity  num__Organic_carbon  num__Trihalomethanes  \\\n",
            "0           1.708954            -1.180651              1.306149   \n",
            "1           2.062575             0.270597             -0.638480   \n",
            "2          -0.094032             0.781117              0.001509   \n",
            "3          -0.778830             1.255134              2.152874   \n",
            "4          -0.343939            -0.824357             -2.181599   \n",
            "\n",
            "   num__Turbidity  remainder__Potability  \n",
            "0       -1.286298                      0  \n",
            "1        0.684218                      0  \n",
            "2       -1.167365                      0  \n",
            "3        0.848412                      0  \n",
            "4        0.138786                      0  \n",
            "           num__ph  num__Hardness  num__Solids  num__Chloramines  \\\n",
            "233  -3.110642e-01       0.202607    -0.552830         -0.677689   \n",
            "831  -2.695014e-01      -0.076915     1.385054          1.740095   \n",
            "2658 -1.665165e-01       0.282838    -0.421201         -0.258663   \n",
            "2495 -6.043133e-16      -0.391810    -1.065120          1.677697   \n",
            "2603 -4.585849e-01      -0.410174    -0.474840          0.215107   \n",
            "\n",
            "      num__Sulfate  num__Conductivity  num__Organic_carbon  \\\n",
            "233      -0.610162          -0.197519             0.492654   \n",
            "831       0.297745           0.889214            -1.652594   \n",
            "2658     -0.994507           0.844916            -0.143923   \n",
            "2495     -0.384790           0.695938            -0.294845   \n",
            "2603     -0.035671          -0.339374             0.912019   \n",
            "\n",
            "      num__Trihalomethanes  num__Turbidity  \n",
            "233              -0.087209       -1.347776  \n",
            "831               0.016684        0.081862  \n",
            "2658              0.273851        1.263320  \n",
            "2495             -1.239443       -0.930926  \n",
            "2603             -0.147522        0.778176  \n",
            "233     0\n",
            "831     0\n",
            "2658    0\n",
            "2495    0\n",
            "2603    0\n",
            "Name: remainder__Potability, dtype: int64\n"
          ]
        }
      ],
      "source": [
        "import pandas as pd\n",
        "import numpy as np\n",
        "from sklearn.model_selection import train_test_split\n",
        "from sklearn.preprocessing import StandardScaler, OneHotEncoder\n",
        "from sklearn.compose import ColumnTransformer\n",
        "from sklearn.pipeline import Pipeline\n",
        "from sklearn.impute import SimpleImputer\n",
        "\n",
        "# Load the dataset\n",
        "data = pd.read_csv('water_potability.csv', encoding=\"latin1\")\n",
        "\n",
        "# Display the first few rows of the dataset\n",
        "print(data.head())\n",
        "\n",
        "# 1. Data Cleaning\n",
        "# Updated num_features to include only available numeric columns\n",
        "num_features = ['ph', 'Hardness', 'Solids', 'Chloramines', 'Sulfate', 'Conductivity', 'Organic_carbon', 'Trihalomethanes', 'Turbidity']\n",
        "num_transformer = Pipeline(steps=[\n",
        "    ('imputer', SimpleImputer(strategy='mean')),\n",
        "    ('scaler', StandardScaler())\n",
        "])\n",
        "\n",
        "# No categorical features available in this dataset based on the column list\n",
        "cat_features = []\n",
        "cat_transformer = Pipeline(steps=[\n",
        "    ('imputer', SimpleImputer(strategy='most_frequent')),\n",
        "    ('onehot', OneHotEncoder(handle_unknown='ignore', sparse_output=False))\n",
        "])\n",
        "\n",
        "# Combine preprocessing steps of Input Data\n",
        "# Only include the numerical transformer as there are no categorical features\n",
        "preprocessor = ColumnTransformer(\n",
        "    transformers=[\n",
        "        (\"num\", num_transformer, num_features),\n",
        "        # Removed categorical transformer as there are no categorical features\n",
        "        # (\"cat\", cat_transformer, cat_features)\n",
        "    ],\n",
        "    remainder='passthrough' # Keep other columns (like 'Potability')\n",
        ")\n",
        "preprocessor.set_output(transform=\"pandas\")\n",
        "\n",
        "# Apply the transformations to the Input data\n",
        "data_preprocessed = preprocessor.fit_transform(data)\n",
        "\n",
        "# Generate more readable column names - this might need adjustment if column names are complex after preprocessing\n",
        "# For this simple case with only numerical features and passthrough, original names might be kept or slightly modified\n",
        "# Let's inspect the columns after preprocessing to decide on renaming\n",
        "print(data_preprocessed.head())\n",
        "\n",
        "\n",
        "# 3. Data Splitting\n",
        "# Assuming 'Potability' is the target variable for this dataset based on the column list\n",
        "X = data_preprocessed.drop(columns=['remainder__Potability'])\n",
        "y = data_preprocessed['remainder__Potability']\n",
        "\n",
        "\n",
        "X_train, X_test, y_train, y_test = train_test_split(X, y, test_size=0.2, random_state=42)\n",
        "\n",
        "# Display the first few rows\n",
        "print(X_train.head())\n",
        "print(y_train.head())"
      ]
    },
    {
      "cell_type": "code",
      "metadata": {
        "colab": {
          "base_uri": "https://localhost:8080/"
        },
        "id": "517ca284",
        "outputId": "8ed4f784-de69-4a02-f3d6-5027250ceffc"
      },
      "source": [
        "print(data.columns)"
      ],
      "execution_count": null,
      "outputs": [
        {
          "output_type": "stream",
          "name": "stdout",
          "text": [
            "Index(['ph', 'Hardness', 'Solids', 'Chloramines', 'Sulfate', 'Conductivity',\n",
            "       'Organic_carbon', 'Trihalomethanes', 'Turbidity', 'Potability'],\n",
            "      dtype='object')\n"
          ]
        }
      ]
    }
  ]
}