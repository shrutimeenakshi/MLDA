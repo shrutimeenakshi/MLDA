{
  "nbformat": 4,
  "nbformat_minor": 0,
  "metadata": {
    "colab": {
      "provenance": []
    },
    "kernelspec": {
      "name": "python3",
      "display_name": "Python 3"
    },
    "language_info": {
      "name": "python"
    }
  },
  "cells": [
    {
      "cell_type": "code",
      "execution_count": 4,
      "metadata": {
        "colab": {
          "base_uri": "https://localhost:8080/"
        },
        "id": "InFWopyY7jKd",
        "outputId": "cf1b14c6-20cf-41a4-cdb3-47acfcd843d3"
      },
      "outputs": [
        {
          "output_type": "stream",
          "name": "stderr",
          "text": [
            "/tmp/ipython-input-1383285974.py:12: FutureWarning: A value is trying to be set on a copy of a DataFrame or Series through chained assignment using an inplace method.\n",
            "The behavior will change in pandas 3.0. This inplace method will never work because the intermediate object on which we are setting values always behaves as a copy.\n",
            "\n",
            "For example, when doing 'df[col].method(value, inplace=True)', try using 'df.method({col: value}, inplace=True)' or df[col] = df[col].method(value) instead, to perform the operation inplace on the original object.\n",
            "\n",
            "\n",
            "  data[col].fillna(data[col].median(), inplace=True)\n"
          ]
        },
        {
          "output_type": "stream",
          "name": "stdout",
          "text": [
            "         ph    Hardness        Solids  Chloramines     Sulfate  Conductivity  \\\n",
            "0  7.036752  204.890455  20791.318981     7.300212  368.516441    564.308654   \n",
            "1  3.716080  129.422921  18630.057858     6.635246  333.073546    592.885359   \n",
            "2  8.099124  224.236259  19909.541732     9.275884  333.073546    418.606213   \n",
            "3  8.316766  214.373394  22018.417441     8.059332  356.886136    363.266516   \n",
            "4  9.092223  181.101509  17978.986339     6.546600  310.135738    398.410813   \n",
            "\n",
            "   Organic_carbon  Trihalomethanes  Turbidity  Potability  \n",
            "0       10.379783        86.990970   2.963135           0  \n",
            "1       15.180013        56.329076   4.500656           0  \n",
            "2       16.868637        66.420093   3.055934           0  \n",
            "3       18.436524       100.341674   4.628771           0  \n",
            "4       11.558279        31.997993   4.075075           0  \n",
            "         ph    Hardness        Solids  Chloramines     Sulfate  Conductivity  \\\n",
            "0  7.036752  204.890455  20791.318981     7.300212  368.516441    564.308654   \n",
            "1  3.716080  129.422921  18630.057858     6.635246  333.073546    592.885359   \n",
            "2  8.099124  224.236259  19909.541732     9.275884  333.073546    418.606213   \n",
            "3  8.316766  214.373394  22018.417441     8.059332  356.886136    363.266516   \n",
            "4  9.092223  181.101509  17978.986339     6.546600  310.135738    398.410813   \n",
            "\n",
            "   Organic_carbon  Trihalomethanes  Turbidity  \n",
            "0       10.379783        86.990970   2.963135  \n",
            "1       15.180013        56.329076   4.500656  \n",
            "2       16.868637        66.420093   3.055934  \n",
            "3       18.436524       100.341674   4.628771  \n",
            "4       11.558279        31.997993   4.075075  \n",
            "0    0\n",
            "1    0\n",
            "2    0\n",
            "3    0\n",
            "4    0\n",
            "Name: Potability, dtype: int64\n",
            "y_test shape: (656,)\n",
            "y_lr_pred shape: (656,)\n",
            "0.6326219512195121\n"
          ]
        }
      ],
      "source": [
        "import pandas as pd\n",
        "from sklearn.preprocessing import LabelEncoder\n",
        "from sklearn.model_selection import train_test_split\n",
        "from sklearn.linear_model import LogisticRegression\n",
        "from sklearn.metrics import accuracy_score\n",
        "import numpy as np\n",
        "\n",
        "data=pd.read_csv(\"water_potability.csv\")\n",
        "\n",
        "# Handle missing values (a simple strategy like median imputation)\n",
        "for col in ['ph', 'Sulfate', 'Trihalomethanes']:\n",
        "    data[col].fillna(data[col].median(), inplace=True)\n",
        "\n",
        "print(data.head())\n",
        "\n",
        "# Define features (x) and target (y)\n",
        "# Exclude 'Potability' as it is the target variable\n",
        "x = data.drop('Potability', axis=1)\n",
        "y = data[\"Potability\"]\n",
        "\n",
        "print(x.head())\n",
        "print(y.head())\n",
        "\n",
        "x_train,x_test,y_train,y_test=train_test_split(x,y,test_size=0.2,random_state=2)\n",
        "lr = LogisticRegression(max_iter=5000)\n",
        "lr.fit(x_train,y_train)\n",
        "y_lr_pred=lr.predict(x_test)\n",
        "print(\"y_test shape:\", y_test.shape)\n",
        "print(\"y_lr_pred shape:\", y_lr_pred.shape)\n",
        "accuracy_lr=accuracy_score(y_test,y_lr_pred)\n",
        "print(accuracy_lr)"
      ]
    }
  ]
}